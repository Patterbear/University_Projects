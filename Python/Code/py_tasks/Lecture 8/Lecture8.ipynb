{
 "cells": [
  {
   "cell_type": "code",
   "execution_count": 11,
   "metadata": {
    "scrolled": false
   },
   "outputs": [
    {
     "name": "stdout",
     "output_type": "stream",
     "text": [
      "set()\n"
     ]
    }
   ],
   "source": [
    "s0 = set() #{} empty set\n",
    "print(s0)"
   ]
  },
  {
   "cell_type": "code",
   "execution_count": 12,
   "metadata": {},
   "outputs": [
    {
     "ename": "TypeError",
     "evalue": "'set' object does not support indexing",
     "output_type": "error",
     "traceback": [
      "\u001b[1;31m---------------------------------------------------------------------------\u001b[0m",
      "\u001b[1;31mTypeError\u001b[0m                                 Traceback (most recent call last)",
      "\u001b[1;32m<ipython-input-12-5cdbfc2bec29>\u001b[0m in \u001b[0;36m<module>\u001b[1;34m()\u001b[0m\n\u001b[0;32m      1\u001b[0m \u001b[0ms\u001b[0m \u001b[1;33m=\u001b[0m \u001b[1;33m{\u001b[0m\u001b[1;36m1\u001b[0m\u001b[1;33m,\u001b[0m \u001b[1;36m2\u001b[0m\u001b[1;33m,\u001b[0m \u001b[1;36m3\u001b[0m\u001b[1;33m}\u001b[0m\u001b[1;33m\u001b[0m\u001b[0m\n\u001b[1;32m----> 2\u001b[1;33m \u001b[0ms\u001b[0m\u001b[1;33m[\u001b[0m\u001b[1;36m0\u001b[0m\u001b[1;33m]\u001b[0m\u001b[1;33m\u001b[0m\u001b[0m\n\u001b[0m",
      "\u001b[1;31mTypeError\u001b[0m: 'set' object does not support indexing"
     ]
    }
   ],
   "source": [
    "s = {1, 2, 3}\n",
    "s[0]"
   ]
  },
  {
   "cell_type": "code",
   "execution_count": 13,
   "metadata": {},
   "outputs": [
    {
     "name": "stdout",
     "output_type": "stream",
     "text": [
      "{1, 2, 3, 4}\n"
     ]
    }
   ],
   "source": [
    "s.add(4)\n",
    "print(s)"
   ]
  },
  {
   "cell_type": "code",
   "execution_count": 14,
   "metadata": {},
   "outputs": [
    {
     "name": "stdout",
     "output_type": "stream",
     "text": [
      "{1, 2, 3, 4}\n"
     ]
    }
   ],
   "source": [
    "s.add(2)\n",
    "print(s)"
   ]
  },
  {
   "cell_type": "code",
   "execution_count": 15,
   "metadata": {},
   "outputs": [
    {
     "data": {
      "text/plain": [
       "False"
      ]
     },
     "execution_count": 15,
     "metadata": {},
     "output_type": "execute_result"
    }
   ],
   "source": [
    "5 in s"
   ]
  },
  {
   "cell_type": "code",
   "execution_count": 16,
   "metadata": {},
   "outputs": [
    {
     "name": "stdout",
     "output_type": "stream",
     "text": [
      "e=  1\n",
      "s=  {2, 3, 4}\n"
     ]
    }
   ],
   "source": [
    "e = s.pop()\n",
    "print('e= ', e)\n",
    "print('s= ', s)"
   ]
  },
  {
   "cell_type": "code",
   "execution_count": 17,
   "metadata": {},
   "outputs": [
    {
     "ename": "KeyError",
     "evalue": "'pop from an empty set'",
     "output_type": "error",
     "traceback": [
      "\u001b[1;31m---------------------------------------------------------------------------\u001b[0m",
      "\u001b[1;31mKeyError\u001b[0m                                  Traceback (most recent call last)",
      "\u001b[1;32m<ipython-input-17-6c85b3486a32>\u001b[0m in \u001b[0;36m<module>\u001b[1;34m()\u001b[0m\n\u001b[1;32m----> 1\u001b[1;33m \u001b[0ms0\u001b[0m\u001b[1;33m.\u001b[0m\u001b[0mpop\u001b[0m\u001b[1;33m(\u001b[0m\u001b[1;33m)\u001b[0m\u001b[1;33m\u001b[0m\u001b[0m\n\u001b[0m",
      "\u001b[1;31mKeyError\u001b[0m: 'pop from an empty set'"
     ]
    }
   ],
   "source": [
    "s0.pop()"
   ]
  },
  {
   "cell_type": "code",
   "execution_count": 20,
   "metadata": {},
   "outputs": [
    {
     "name": "stdout",
     "output_type": "stream",
     "text": [
      "{2, (3, 4)}\n"
     ]
    }
   ],
   "source": [
    "# Elements of a set should be immutable\n",
    "s1 = {2, (3, 4)}\n",
    "print(s1)"
   ]
  },
  {
   "cell_type": "code",
   "execution_count": 4,
   "metadata": {},
   "outputs": [
    {
     "name": "stdout",
     "output_type": "stream",
     "text": [
      "{1, 5, 7, 11, 13}\n"
     ]
    }
   ],
   "source": [
    "# set enumeration\n",
    "odds = {1, 3, 5, 7, 9}\n",
    "# set comprehension\n",
    "odds = {e for e in range(0, 10) if e%2==1} \n",
    "S = {x for x in range(1, 15) if x%2==1 and x%3 in [1, 2]}\n"
   ]
  },
  {
   "cell_type": "code",
   "execution_count": 21,
   "metadata": {},
   "outputs": [
    {
     "name": "stdout",
     "output_type": "stream",
     "text": [
      "False\n"
     ]
    }
   ],
   "source": [
    "#This code has a bug. Can you fix it?\n",
    "def is_secret_word(word, guesses):\n",
    "    '''\n",
    "    Inputs: word (string) and a list of letters\n",
    "    Outputs: True/False if all the letters in word are in guesses.\n",
    "    '''\n",
    "    s = set() # empty set\n",
    "    for l in guesses:\n",
    "        if l in word:\n",
    "            s.add(l)\n",
    "    return len(s)==len(guesses)\n",
    "word = 'coop'\n",
    "guesses = ['c','o','p','o']\n",
    "print(is_secret_word(word,guesses))"
   ]
  },
  {
   "cell_type": "code",
   "execution_count": 22,
   "metadata": {},
   "outputs": [
    {
     "name": "stdout",
     "output_type": "stream",
     "text": [
      "True\n"
     ]
    }
   ],
   "source": [
    "def is_secret_word_corrected(word, guesses):\n",
    "    '''\n",
    "    Inputs: word (string) and a list of letters\n",
    "    Outputs: True/False if all the letters in word are in guesses.\n",
    "    '''\n",
    "    for c in word:\n",
    "        if c not in guesses:\n",
    "            return False\n",
    "    return True\n",
    "word = 'coop'\n",
    "guesses = ['c','o','p','o']\n",
    "print(is_secret_word_corrected(word,guesses))"
   ]
  },
  {
   "cell_type": "code",
   "execution_count": 6,
   "metadata": {
    "scrolled": true
   },
   "outputs": [
    {
     "data": {
      "text/plain": [
       "{2}"
      ]
     },
     "execution_count": 6,
     "metadata": {},
     "output_type": "execute_result"
    }
   ],
   "source": [
    "# set operations\n",
    "primes = {2, 3, 5, 7, 11}\n",
    "odds = {1,3, 5, 7, 9, 11}\n",
    "# intersection: items appearing in both\n",
    "primes & odds # with an operator\n",
    "primes.intersection(odds) # equivalent method\n",
    "# union: items appearing in either\n",
    "primes | odds # with an operator\n",
    "primes.union(odds) # equivalent method\n",
    "# difference: items in primes but not in odds\n",
    "primes - odds # with an operator\n",
    "primes.difference(odds) # equivalent method"
   ]
  },
  {
   "cell_type": "code",
   "execution_count": 7,
   "metadata": {},
   "outputs": [
    {
     "name": "stdout",
     "output_type": "stream",
     "text": [
      "{2, 3, 5, 7, 11, 13, 17, 19, 23}\n"
     ]
    }
   ],
   "source": [
    "primes = {2, 3, 5, 7, 11}\n",
    "primes.update([13, 17])\n",
    "primes.update([3, 11], [19, 23])\n",
    "print(primes)"
   ]
  },
  {
   "cell_type": "code",
   "execution_count": 8,
   "metadata": {
    "collapsed": true
   },
   "outputs": [],
   "source": [
    "names = ['Ana', 'Louise', 'John', 'Tom']\n",
    "grade = ['A', 'A+', 'B', 'A']\n",
    "course = ['CO1101', 'CO1102', 'CO1103', 'CO1104']\n",
    "\n",
    "def get_grade(student, names, grades, modules): \n",
    "    i = names.index(student) \n",
    "    grade = grades[i] \n",
    "    module = modules[i] \n",
    "    return (module, grade)"
   ]
  },
  {
   "cell_type": "code",
   "execution_count": 9,
   "metadata": {},
   "outputs": [
    {
     "data": {
      "text/plain": [
       "[3.14, 2.7, 8.44]"
      ]
     },
     "execution_count": 9,
     "metadata": {},
     "output_type": "execute_result"
    }
   ],
   "source": [
    "d = {4:{1:0}, (1,3):\"twelve\", 'const':[3.14,2.7,8.44]}\n",
    "d['const']"
   ]
  },
  {
   "cell_type": "code",
   "execution_count": 10,
   "metadata": {},
   "outputs": [
    {
     "data": {
      "text/plain": [
       "False"
      ]
     },
     "execution_count": 10,
     "metadata": {},
     "output_type": "execute_result"
    }
   ],
   "source": [
    "#key is a string and value a string\n",
    "grades0 = {'Ana':'A', 'Louis':'A+', 'John':'B', 'Tom':'A'}\n",
    "#key is a string and value a tuple\n",
    "grades1 = {'Ana':('CO1101','A'), 'Louis':('CO1102','A+'), 'John':('CO1102','B'), 'Tom':('CO1104','A')}\n",
    "'Ana' in grades0\n",
    "'Paul'in grades0"
   ]
  },
  {
   "cell_type": "code",
   "execution_count": 9,
   "metadata": {},
   "outputs": [
    {
     "name": "stdout",
     "output_type": "stream",
     "text": [
      "{}\n"
     ]
    }
   ],
   "source": [
    "D = dict()\n",
    "print(D)"
   ]
  },
  {
   "cell_type": "code",
   "execution_count": 10,
   "metadata": {},
   "outputs": [
    {
     "data": {
      "text/plain": [
       "dict"
      ]
     },
     "execution_count": 10,
     "metadata": {},
     "output_type": "execute_result"
    }
   ],
   "source": [
    "E = {}\n",
    "type(E)"
   ]
  },
  {
   "cell_type": "code",
   "execution_count": 11,
   "metadata": {},
   "outputs": [
    {
     "data": {
      "text/plain": [
       "dict_values(['A+', 'B', 'A', 'A'])"
      ]
     },
     "execution_count": 11,
     "metadata": {},
     "output_type": "execute_result"
    }
   ],
   "source": [
    "grades0 = {'Ana':'A', 'Louis':'A+', 'John':'B', 'Tom':'A'}\n",
    "grades0['Ana'] # returns ('C1101', 'A')\n",
    "#grades0['Paul'] # gives an error\n",
    "grades0['Alice'] = 'A' #add an entry\n",
    "'Alice' in grades0 # returns True\n",
    "'Bob' in grades0 # returns False\n",
    "del(grades0['Ana']) # delete entry\n",
    "grades0.keys() # returns all the keys\n",
    "grades0.values() #returns all values"
   ]
  },
  {
   "cell_type": "code",
   "execution_count": 1,
   "metadata": {},
   "outputs": [
    {
     "name": "stdout",
     "output_type": "stream",
     "text": [
      "True\n",
      "left\n"
     ]
    }
   ],
   "source": [
    "opposites = {'up': 'down', 'right': 'wrong', 'true': 'false'}\n",
    "alias = opposites\n",
    "\n",
    "print(alias is opposites)\n",
    "\n",
    "alias['right'] = 'left'\n",
    "print(opposites['right'])"
   ]
  },
  {
   "cell_type": "code",
   "execution_count": 1,
   "metadata": {},
   "outputs": [
    {
     "name": "stdout",
     "output_type": "stream",
     "text": [
      "{'m': 2, 'a': 5, 'c': 2, 'd': 1, 'g': 1, 's': 1, 'r': 1}\n",
      "a 5\n",
      "c 2\n",
      "d 1\n",
      "g 1\n",
      "m 2\n",
      "r 1\n",
      "s 1\n"
     ]
    }
   ],
   "source": [
    "word = 'macmadagascar'\n",
    "d = dict()\n",
    "for c in word:\n",
    "    if c not in d:\n",
    "        d[c] = 1\n",
    "    else:\n",
    "        d[c] = d[c] + 1\n",
    "print(d)\n",
    "keys = list(d.keys())\n",
    "keys.sort()\n",
    "for k in keys:\n",
    "    print(k, d[k])"
   ]
  },
  {
   "cell_type": "code",
   "execution_count": null,
   "metadata": {
    "collapsed": true
   },
   "outputs": [],
   "source": []
  }
 ],
 "metadata": {
  "anaconda-cloud": {},
  "kernelspec": {
   "display_name": "Python 3",
   "language": "python",
   "name": "python3"
  },
  "language_info": {
   "codemirror_mode": {
    "name": "ipython",
    "version": 3
   },
   "file_extension": ".py",
   "mimetype": "text/x-python",
   "name": "python",
   "nbconvert_exporter": "python",
   "pygments_lexer": "ipython3",
   "version": "3.7.0"
  }
 },
 "nbformat": 4,
 "nbformat_minor": 1
}
